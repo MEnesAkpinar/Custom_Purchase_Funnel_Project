{
 "cells": [
  {
   "cell_type": "markdown",
   "id": "e6e637a6",
   "metadata": {},
   "source": [
    "![image.png](https://wolk-aftersales.com/neuewebsite/wp-content/uploads/2021/05/Autodoc_Logo_2018.png)\n",
    "\n",
    "## <p style=\"background-color:#FDFEFE; font-family:newtimeroman; color:#060108; font-size:200%; text-align:center; border-radius:10px 10px;\">Purchase Funnel Project</p>"
   ]
  },
  {
   "cell_type": "markdown",
   "id": "a0eca380",
   "metadata": {},
   "source": [
    "<a id=\"toc\"></a>\n",
    "\n",
    "## <p style=\"background-color:#33475b; font-family:newtimeroman; color:#FFF9ED; font-size:175%; text-align:center; border-radius:10px 10px;\">Content</p>\n",
    "\n",
    "* [Introduction](#0)\n",
    "* [I. Importing Related Libraries](#1)\n",
    "* [II. Load Data and Data Review](#2)\n",
    "* [III. Focus on Columns -- Feature Engineering](#3)\n",
    "* [End Of the Project](#4)"
   ]
  },
  {
   "cell_type": "markdown",
   "id": "fa2e088e",
   "metadata": {},
   "source": [
    "## <p style=\"background-color:#33475b; font-family:newtimeroman; color:#FFF9ED; font-size:150%; text-align:center; border-radius:10px 10px;\">Introduction</p>\n",
    "\n",
    "<a id=\"0\"> </a>"
   ]
  },
  {
   "cell_type": "markdown",
   "id": "66524164",
   "metadata": {},
   "source": [
    "   It is a project to build a custom purchase funnel to improve marketing strategy and better align it with customer behavior. This funnel will be built based on extensive tracking data and will map the customer journey from their first visit to the relevant website, to viewing products or listings, to the moment of purchas"
   ]
  },
  {
   "cell_type": "markdown",
   "id": "92cecf05",
   "metadata": {},
   "source": [
    "## Aim of the Notebook"
   ]
  },
  {
   "cell_type": "markdown",
   "id": "1e307c40",
   "metadata": {},
   "source": [
    "   The primary objectives are to identify and analyze each step of this marketing funnel, uncovering detailed insights  at each stage, enabling us to optimize our approach and uncover conversion rates, and offer improvements based on the rates. "
   ]
  },
  {
   "cell_type": "markdown",
   "id": "5a59e9c5",
   "metadata": {},
   "source": [
    "- As a general process, we will first understand the dataset, and then manipulate and prepare the dataset for the calculations we will use in the next steps. \n",
    "\n",
    "- In the next step, various calculations will be shown to reveal and interpret customer behavior at each stage. \n",
    "\n",
    "- These results need to be presented in a report in order to make a presentation to the whole team. This way the data will be more understandable and easy to interpret for everyone. For this report, the latest version of the dataset will be imported and a dashboard will be created. \n",
    "\n",
    "- Finally, we will generate various insights with the help of the SQL tool. \n",
    "\n",
    "### Now, let's start building the notebook for our data and funnel analysis. "
   ]
  },
  {
   "cell_type": "markdown",
   "id": "ddb0d8fd",
   "metadata": {},
   "source": [
    "## <p style=\"background-color:#33475b; font-family:newtimeroman; color:#FFF9ED; font-size:150%; text-align:center; border-radius:10px 10px;\">I. Importing Related Libraries</p>\n",
    "\n",
    "<a id=\"1\"></a>"
   ]
  },
  {
   "cell_type": "code",
   "execution_count": 140,
   "id": "3b12d3b3",
   "metadata": {},
   "outputs": [],
   "source": [
    "import numpy as np\n",
    "import pandas as pd\n",
    "import matplotlib.pyplot as plt\n",
    "from matplotlib.patches import Patch\n",
    "from matplotlib.lines import Line2D\n",
    "import seaborn as sns\n",
    "\n",
    "import warnings\n",
    "warnings.filterwarnings(\"ignore\")\n",
    "warnings.warn(\"this will not show\")\n",
    "\n",
    "# Figure&Display options\n",
    "sns.set_style(\"whitegrid\")\n",
    "plt.rcParams[\"figure.figsize\"] = (10,6)\n",
    "#pd.set_option('max_colwidth',200)\n",
    "#pd.set_option('display.max_rows', 1000)\n",
    "pd.set_option('display.max_columns', None)\n",
    "pd.set_option('display.float_format', lambda x: '%.3f' % x)"
   ]
  },
  {
   "cell_type": "markdown",
   "id": "adb4b957",
   "metadata": {},
   "source": [
    "## <p style=\"background-color:#33475b; font-family:newtimeroman; color:#FFF9ED; font-size:150%; text-align:center; border-radius:10px 10px;\">II. Load Data and Data Review</p>\n",
    "\n",
    "<a id=\"2\"></a>"
   ]
  },
  {
   "cell_type": "code",
   "execution_count": 149,
   "id": "d2013ca1",
   "metadata": {},
   "outputs": [],
   "source": [
    "df = pd.read_csv(\"data_set_da_test.csv\")"
   ]
  },
  {
   "cell_type": "code",
   "execution_count": 150,
   "id": "8f6ed897",
   "metadata": {},
   "outputs": [
    {
     "data": {
      "text/html": [
       "<div>\n",
       "<style scoped>\n",
       "    .dataframe tbody tr th:only-of-type {\n",
       "        vertical-align: middle;\n",
       "    }\n",
       "\n",
       "    .dataframe tbody tr th {\n",
       "        vertical-align: top;\n",
       "    }\n",
       "\n",
       "    .dataframe thead th {\n",
       "        text-align: right;\n",
       "    }\n",
       "</style>\n",
       "<table border=\"1\" class=\"dataframe\">\n",
       "  <thead>\n",
       "    <tr style=\"text-align: right;\">\n",
       "      <th></th>\n",
       "      <th>event_date</th>\n",
       "      <th>session</th>\n",
       "      <th>user</th>\n",
       "      <th>page_type</th>\n",
       "      <th>event_type</th>\n",
       "      <th>product</th>\n",
       "    </tr>\n",
       "  </thead>\n",
       "  <tbody>\n",
       "    <tr>\n",
       "      <th>0</th>\n",
       "      <td>2022-10-08 17:02:41</td>\n",
       "      <td>14274187577460658115s</td>\n",
       "      <td>2006979063809820329u</td>\n",
       "      <td>search_listing_page</td>\n",
       "      <td>page_view</td>\n",
       "      <td>0</td>\n",
       "    </tr>\n",
       "    <tr>\n",
       "      <th>1</th>\n",
       "      <td>2022-10-08 17:06:19</td>\n",
       "      <td>14274187577460658115s</td>\n",
       "      <td>2006979063809820329u</td>\n",
       "      <td>search_listing_page</td>\n",
       "      <td>page_view</td>\n",
       "      <td>0</td>\n",
       "    </tr>\n",
       "    <tr>\n",
       "      <th>2</th>\n",
       "      <td>2022-10-08 22:19:47</td>\n",
       "      <td>2704204808571844605s</td>\n",
       "      <td>2007646148110679693u</td>\n",
       "      <td>listing_page</td>\n",
       "      <td>page_view</td>\n",
       "      <td>0</td>\n",
       "    </tr>\n",
       "    <tr>\n",
       "      <th>3</th>\n",
       "      <td>2022-10-08 22:24:30</td>\n",
       "      <td>8970170322512311099s</td>\n",
       "      <td>11839491588321754710u</td>\n",
       "      <td>search_listing_page</td>\n",
       "      <td>page_view</td>\n",
       "      <td>0</td>\n",
       "    </tr>\n",
       "    <tr>\n",
       "      <th>4</th>\n",
       "      <td>2022-10-08 21:22:20</td>\n",
       "      <td>16223970371660715740s</td>\n",
       "      <td>11839887495958431209u</td>\n",
       "      <td>product_page</td>\n",
       "      <td>page_view</td>\n",
       "      <td>0</td>\n",
       "    </tr>\n",
       "  </tbody>\n",
       "</table>\n",
       "</div>"
      ],
      "text/plain": [
       "            event_date                session                   user  \\\n",
       "0  2022-10-08 17:02:41  14274187577460658115s   2006979063809820329u   \n",
       "1  2022-10-08 17:06:19  14274187577460658115s   2006979063809820329u   \n",
       "2  2022-10-08 22:19:47   2704204808571844605s   2007646148110679693u   \n",
       "3  2022-10-08 22:24:30   8970170322512311099s  11839491588321754710u   \n",
       "4  2022-10-08 21:22:20  16223970371660715740s  11839887495958431209u   \n",
       "\n",
       "             page_type event_type  product  \n",
       "0  search_listing_page  page_view        0  \n",
       "1  search_listing_page  page_view        0  \n",
       "2         listing_page  page_view        0  \n",
       "3  search_listing_page  page_view        0  \n",
       "4         product_page  page_view        0  "
      ]
     },
     "execution_count": 150,
     "metadata": {},
     "output_type": "execute_result"
    }
   ],
   "source": [
    "df.head()"
   ]
  },
  {
   "cell_type": "code",
   "execution_count": 5,
   "id": "1ac9d60d",
   "metadata": {},
   "outputs": [
    {
     "data": {
      "text/html": [
       "<div>\n",
       "<style scoped>\n",
       "    .dataframe tbody tr th:only-of-type {\n",
       "        vertical-align: middle;\n",
       "    }\n",
       "\n",
       "    .dataframe tbody tr th {\n",
       "        vertical-align: top;\n",
       "    }\n",
       "\n",
       "    .dataframe thead th {\n",
       "        text-align: right;\n",
       "    }\n",
       "</style>\n",
       "<table border=\"1\" class=\"dataframe\">\n",
       "  <thead>\n",
       "    <tr style=\"text-align: right;\">\n",
       "      <th></th>\n",
       "      <th>event_date</th>\n",
       "      <th>session</th>\n",
       "      <th>user</th>\n",
       "      <th>page_type</th>\n",
       "      <th>event_type</th>\n",
       "      <th>product</th>\n",
       "    </tr>\n",
       "  </thead>\n",
       "  <tbody>\n",
       "    <tr>\n",
       "      <th>414092</th>\n",
       "      <td>2022-10-12 18:52:19</td>\n",
       "      <td>11914947960018664033s</td>\n",
       "      <td>8880184366266217263u</td>\n",
       "      <td>search_listing_page</td>\n",
       "      <td>page_view</td>\n",
       "      <td>0</td>\n",
       "    </tr>\n",
       "    <tr>\n",
       "      <th>13682</th>\n",
       "      <td>2022-09-30 19:43:05</td>\n",
       "      <td>18163706171672094151s</td>\n",
       "      <td>10731902290458823799u</td>\n",
       "      <td>search_listing_page</td>\n",
       "      <td>page_view</td>\n",
       "      <td>0</td>\n",
       "    </tr>\n",
       "    <tr>\n",
       "      <th>16904</th>\n",
       "      <td>2022-09-30 23:49:26</td>\n",
       "      <td>10131781634862675530s</td>\n",
       "      <td>51976650537349344u</td>\n",
       "      <td>product_page</td>\n",
       "      <td>page_view</td>\n",
       "      <td>0</td>\n",
       "    </tr>\n",
       "    <tr>\n",
       "      <th>457303</th>\n",
       "      <td>2022-10-06 10:13:29</td>\n",
       "      <td>5991075035764835210s</td>\n",
       "      <td>12754865886541179551u</td>\n",
       "      <td>product_page</td>\n",
       "      <td>page_view</td>\n",
       "      <td>0</td>\n",
       "    </tr>\n",
       "    <tr>\n",
       "      <th>622329</th>\n",
       "      <td>2022-10-10 21:19:25</td>\n",
       "      <td>3980190479791933092s</td>\n",
       "      <td>10770185070123831430u</td>\n",
       "      <td>product_page</td>\n",
       "      <td>page_view</td>\n",
       "      <td>0</td>\n",
       "    </tr>\n",
       "  </tbody>\n",
       "</table>\n",
       "</div>"
      ],
      "text/plain": [
       "                 event_date                session                   user  \\\n",
       "414092  2022-10-12 18:52:19  11914947960018664033s   8880184366266217263u   \n",
       "13682   2022-09-30 19:43:05  18163706171672094151s  10731902290458823799u   \n",
       "16904   2022-09-30 23:49:26  10131781634862675530s     51976650537349344u   \n",
       "457303  2022-10-06 10:13:29   5991075035764835210s  12754865886541179551u   \n",
       "622329  2022-10-10 21:19:25   3980190479791933092s  10770185070123831430u   \n",
       "\n",
       "                  page_type event_type  product  \n",
       "414092  search_listing_page  page_view        0  \n",
       "13682   search_listing_page  page_view        0  \n",
       "16904          product_page  page_view        0  \n",
       "457303         product_page  page_view        0  \n",
       "622329         product_page  page_view        0  "
      ]
     },
     "execution_count": 5,
     "metadata": {},
     "output_type": "execute_result"
    }
   ],
   "source": [
    "df.sample(5)"
   ]
  },
  {
   "cell_type": "code",
   "execution_count": 143,
   "id": "0810d038",
   "metadata": {},
   "outputs": [
    {
     "data": {
      "text/plain": [
       "(637238, 6)"
      ]
     },
     "execution_count": 143,
     "metadata": {},
     "output_type": "execute_result"
    }
   ],
   "source": [
    "df.shape"
   ]
  },
  {
   "cell_type": "code",
   "execution_count": 144,
   "id": "bdc5dc30",
   "metadata": {},
   "outputs": [
    {
     "name": "stdout",
     "output_type": "stream",
     "text": [
      "<class 'pandas.core.frame.DataFrame'>\n",
      "RangeIndex: 637238 entries, 0 to 637237\n",
      "Data columns (total 6 columns):\n",
      " #   Column      Non-Null Count   Dtype \n",
      "---  ------      --------------   ----- \n",
      " 0   event_date  637238 non-null  object\n",
      " 1   session     637238 non-null  object\n",
      " 2   user        637238 non-null  object\n",
      " 3   page_type   637238 non-null  object\n",
      " 4   event_type  637238 non-null  object\n",
      " 5   product     637238 non-null  int64 \n",
      "dtypes: int64(1), object(5)\n",
      "memory usage: 29.2+ MB\n"
     ]
    }
   ],
   "source": [
    "df.info()"
   ]
  },
  {
   "cell_type": "code",
   "execution_count": 151,
   "id": "05584194",
   "metadata": {},
   "outputs": [
    {
     "data": {
      "text/plain": [
       "839"
      ]
     },
     "execution_count": 151,
     "metadata": {},
     "output_type": "execute_result"
    }
   ],
   "source": [
    "df.duplicated().sum()"
   ]
  },
  {
   "cell_type": "code",
   "execution_count": 152,
   "id": "e94d939c",
   "metadata": {},
   "outputs": [],
   "source": [
    "df.drop_duplicates(inplace=True)"
   ]
  },
  {
   "cell_type": "code",
   "execution_count": 153,
   "id": "132ecac3",
   "metadata": {},
   "outputs": [
    {
     "data": {
      "text/plain": [
       "0"
      ]
     },
     "execution_count": 153,
     "metadata": {},
     "output_type": "execute_result"
    }
   ],
   "source": [
    "df.duplicated().sum()"
   ]
  },
  {
   "cell_type": "code",
   "execution_count": 1,
   "id": "9fe4be73",
   "metadata": {},
   "outputs": [
    {
     "ename": "NameError",
     "evalue": "name 'df' is not defined",
     "output_type": "error",
     "traceback": [
      "\u001b[1;31m---------------------------------------------------------------------------\u001b[0m",
      "\u001b[1;31mNameError\u001b[0m                                 Traceback (most recent call last)",
      "Cell \u001b[1;32mIn[1], line 1\u001b[0m\n\u001b[1;32m----> 1\u001b[0m df\u001b[38;5;241m.\u001b[39mdescribe(include\u001b[38;5;241m=\u001b[39m\u001b[38;5;28mobject\u001b[39m)\n",
      "\u001b[1;31mNameError\u001b[0m: name 'df' is not defined"
     ]
    }
   ],
   "source": [
    "df.describe(include=object)"
   ]
  },
  {
   "cell_type": "code",
   "execution_count": 23,
   "id": "b3ec62f6",
   "metadata": {},
   "outputs": [
    {
     "data": {
      "text/html": [
       "<div>\n",
       "<style scoped>\n",
       "    .dataframe tbody tr th:only-of-type {\n",
       "        vertical-align: middle;\n",
       "    }\n",
       "\n",
       "    .dataframe tbody tr th {\n",
       "        vertical-align: top;\n",
       "    }\n",
       "\n",
       "    .dataframe thead th {\n",
       "        text-align: right;\n",
       "    }\n",
       "</style>\n",
       "<table border=\"1\" class=\"dataframe\">\n",
       "  <thead>\n",
       "    <tr style=\"text-align: right;\">\n",
       "      <th></th>\n",
       "      <th>event_date</th>\n",
       "      <th>session</th>\n",
       "      <th>user</th>\n",
       "      <th>page_type</th>\n",
       "      <th>event_type</th>\n",
       "    </tr>\n",
       "  </thead>\n",
       "  <tbody>\n",
       "    <tr>\n",
       "      <th>count</th>\n",
       "      <td>637238</td>\n",
       "      <td>637238</td>\n",
       "      <td>637238</td>\n",
       "      <td>637238</td>\n",
       "      <td>637238</td>\n",
       "    </tr>\n",
       "    <tr>\n",
       "      <th>unique</th>\n",
       "      <td>464539</td>\n",
       "      <td>340443</td>\n",
       "      <td>288088</td>\n",
       "      <td>4</td>\n",
       "      <td>3</td>\n",
       "    </tr>\n",
       "    <tr>\n",
       "      <th>top</th>\n",
       "      <td>2022-10-05 11:57:23</td>\n",
       "      <td>9543669642136985868s</td>\n",
       "      <td>11769744300065907078u</td>\n",
       "      <td>product_page</td>\n",
       "      <td>page_view</td>\n",
       "    </tr>\n",
       "    <tr>\n",
       "      <th>freq</th>\n",
       "      <td>8</td>\n",
       "      <td>1264</td>\n",
       "      <td>1266</td>\n",
       "      <td>282950</td>\n",
       "      <td>612498</td>\n",
       "    </tr>\n",
       "  </tbody>\n",
       "</table>\n",
       "</div>"
      ],
      "text/plain": [
       "                 event_date               session                   user  \\\n",
       "count                637238                637238                 637238   \n",
       "unique               464539                340443                 288088   \n",
       "top     2022-10-05 11:57:23  9543669642136985868s  11769744300065907078u   \n",
       "freq                      8                  1264                   1266   \n",
       "\n",
       "           page_type event_type  \n",
       "count         637238     637238  \n",
       "unique             4          3  \n",
       "top     product_page  page_view  \n",
       "freq          282950     612498  "
      ]
     },
     "execution_count": 23,
     "metadata": {},
     "output_type": "execute_result"
    }
   ],
   "source": [
    "df.describe(include = object)"
   ]
  },
  {
   "cell_type": "code",
   "execution_count": 6,
   "id": "aab5cfa7",
   "metadata": {},
   "outputs": [],
   "source": [
    "df_object = df.select_dtypes(include='object')"
   ]
  },
  {
   "cell_type": "code",
   "execution_count": 7,
   "id": "3fdb8445",
   "metadata": {},
   "outputs": [
    {
     "name": "stdout",
     "output_type": "stream",
     "text": [
      "event_date          : 464539\n",
      "session             : 340443\n",
      "user                : 288088\n",
      "page_type           : 4\n",
      "event_type          : 3\n"
     ]
    }
   ],
   "source": [
    "for col in df_object:\n",
    "    print(f\"{col:<20}:\", df[col].nunique())"
   ]
  },
  {
   "cell_type": "code",
   "execution_count": 24,
   "id": "e65932d0",
   "metadata": {
    "scrolled": true
   },
   "outputs": [
    {
     "data": {
      "text/plain": [
       "event_date    0\n",
       "session       0\n",
       "user          0\n",
       "page_type     0\n",
       "event_type    0\n",
       "product       0\n",
       "dtype: int64"
      ]
     },
     "execution_count": 24,
     "metadata": {},
     "output_type": "execute_result"
    }
   ],
   "source": [
    "df.isna().sum()"
   ]
  },
  {
   "cell_type": "code",
   "execution_count": 13,
   "id": "c9ad2683",
   "metadata": {},
   "outputs": [
    {
     "data": {
      "text/plain": [
       "Index(['event_date', 'session', 'user', 'page_type', 'event_type', 'product'], dtype='object')"
      ]
     },
     "execution_count": 13,
     "metadata": {},
     "output_type": "execute_result"
    }
   ],
   "source": [
    "df.columns"
   ]
  },
  {
   "cell_type": "code",
   "execution_count": 16,
   "id": "9c1bfd55",
   "metadata": {},
   "outputs": [
    {
     "data": {
      "text/plain": [
       "session\n",
       "9543669642136985868s     1258\n",
       "14816963559813395593s     346\n",
       "3509679068011838002s      251\n",
       "7160321411091116049s      203\n",
       "6410548667176451624s      193\n",
       "                         ... \n",
       "7187446511484344046s        1\n",
       "15172055876479169932s       1\n",
       "8304886803886160144s        1\n",
       "11149641400322386010s       1\n",
       "8776519620226077650s        1\n",
       "Name: count, Length: 340443, dtype: int64"
      ]
     },
     "execution_count": 16,
     "metadata": {},
     "output_type": "execute_result"
    }
   ],
   "source": [
    "df.session.value_counts()"
   ]
  },
  {
   "cell_type": "code",
   "execution_count": 17,
   "id": "8f99945e",
   "metadata": {},
   "outputs": [
    {
     "data": {
      "text/plain": [
       "user\n",
       "11769744300065907078u    1260\n",
       "10671157392604114939u    1014\n",
       "15055679654066929981u     977\n",
       "9697135938868880738u      974\n",
       "1316617677830457669u      666\n",
       "                         ... \n",
       "9102072801364594820u        1\n",
       "9103796325275164355u        1\n",
       "9104387786437595441u        1\n",
       "15997284830081135375u       1\n",
       "18416278413345382629u       1\n",
       "Name: count, Length: 288088, dtype: int64"
      ]
     },
     "execution_count": 17,
     "metadata": {},
     "output_type": "execute_result"
    }
   ],
   "source": [
    "df.user.value_counts()"
   ]
  },
  {
   "cell_type": "markdown",
   "id": "c6bfd143",
   "metadata": {},
   "source": [
    "## <p style=\"background-color:#33475b; font-family:newtimeroman; color:#FFF9ED; font-size:150%; text-align:center; border-radius:10px 10px;\">III. Focus on Columns -- Feature Engineering</p>\n",
    "\n",
    "<a id=\"3\"></a>"
   ]
  },
  {
   "cell_type": "markdown",
   "id": "36315656",
   "metadata": {},
   "source": [
    "## event_date"
   ]
  },
  {
   "cell_type": "code",
   "execution_count": 80,
   "id": "da00a2e9",
   "metadata": {},
   "outputs": [
    {
     "data": {
      "text/html": [
       "<div>\n",
       "<style scoped>\n",
       "    .dataframe tbody tr th:only-of-type {\n",
       "        vertical-align: middle;\n",
       "    }\n",
       "\n",
       "    .dataframe tbody tr th {\n",
       "        vertical-align: top;\n",
       "    }\n",
       "\n",
       "    .dataframe thead th {\n",
       "        text-align: right;\n",
       "    }\n",
       "</style>\n",
       "<table border=\"1\" class=\"dataframe\">\n",
       "  <thead>\n",
       "    <tr style=\"text-align: right;\">\n",
       "      <th></th>\n",
       "      <th>event_date</th>\n",
       "      <th>session</th>\n",
       "      <th>user</th>\n",
       "      <th>page_type</th>\n",
       "      <th>event_type</th>\n",
       "      <th>product</th>\n",
       "    </tr>\n",
       "  </thead>\n",
       "  <tbody>\n",
       "    <tr>\n",
       "      <th>0</th>\n",
       "      <td>2022-10-08 17:02:41</td>\n",
       "      <td>14274187577460658115s</td>\n",
       "      <td>2006979063809820329u</td>\n",
       "      <td>search_listing_page</td>\n",
       "      <td>page_view</td>\n",
       "      <td>0</td>\n",
       "    </tr>\n",
       "    <tr>\n",
       "      <th>1</th>\n",
       "      <td>2022-10-08 17:06:19</td>\n",
       "      <td>14274187577460658115s</td>\n",
       "      <td>2006979063809820329u</td>\n",
       "      <td>search_listing_page</td>\n",
       "      <td>page_view</td>\n",
       "      <td>0</td>\n",
       "    </tr>\n",
       "    <tr>\n",
       "      <th>2</th>\n",
       "      <td>2022-10-08 22:19:47</td>\n",
       "      <td>2704204808571844605s</td>\n",
       "      <td>2007646148110679693u</td>\n",
       "      <td>listing_page</td>\n",
       "      <td>page_view</td>\n",
       "      <td>0</td>\n",
       "    </tr>\n",
       "    <tr>\n",
       "      <th>3</th>\n",
       "      <td>2022-10-08 22:24:30</td>\n",
       "      <td>8970170322512311099s</td>\n",
       "      <td>11839491588321754710u</td>\n",
       "      <td>search_listing_page</td>\n",
       "      <td>page_view</td>\n",
       "      <td>0</td>\n",
       "    </tr>\n",
       "    <tr>\n",
       "      <th>4</th>\n",
       "      <td>2022-10-08 21:22:20</td>\n",
       "      <td>16223970371660715740s</td>\n",
       "      <td>11839887495958431209u</td>\n",
       "      <td>product_page</td>\n",
       "      <td>page_view</td>\n",
       "      <td>0</td>\n",
       "    </tr>\n",
       "    <tr>\n",
       "      <th>...</th>\n",
       "      <td>...</td>\n",
       "      <td>...</td>\n",
       "      <td>...</td>\n",
       "      <td>...</td>\n",
       "      <td>...</td>\n",
       "      <td>...</td>\n",
       "    </tr>\n",
       "    <tr>\n",
       "      <th>637233</th>\n",
       "      <td>2022-09-30 19:10:47</td>\n",
       "      <td>4337671502003974886s</td>\n",
       "      <td>16408992711249841548u</td>\n",
       "      <td>listing_page</td>\n",
       "      <td>page_view</td>\n",
       "      <td>0</td>\n",
       "    </tr>\n",
       "    <tr>\n",
       "      <th>637234</th>\n",
       "      <td>2022-09-30 14:44:29</td>\n",
       "      <td>13436616217932629112s</td>\n",
       "      <td>18362900391208328063u</td>\n",
       "      <td>listing_page</td>\n",
       "      <td>page_view</td>\n",
       "      <td>0</td>\n",
       "    </tr>\n",
       "    <tr>\n",
       "      <th>637235</th>\n",
       "      <td>2022-09-30 02:20:22</td>\n",
       "      <td>6129704733313384581s</td>\n",
       "      <td>18383133457867141415u</td>\n",
       "      <td>listing_page</td>\n",
       "      <td>page_view</td>\n",
       "      <td>0</td>\n",
       "    </tr>\n",
       "    <tr>\n",
       "      <th>637236</th>\n",
       "      <td>2022-09-30 12:20:04</td>\n",
       "      <td>14145319343967194043s</td>\n",
       "      <td>18403471609558160062u</td>\n",
       "      <td>listing_page</td>\n",
       "      <td>page_view</td>\n",
       "      <td>0</td>\n",
       "    </tr>\n",
       "    <tr>\n",
       "      <th>637237</th>\n",
       "      <td>2022-09-30 08:10:58</td>\n",
       "      <td>8776519620226077650s</td>\n",
       "      <td>18416278413345382629u</td>\n",
       "      <td>listing_page</td>\n",
       "      <td>page_view</td>\n",
       "      <td>0</td>\n",
       "    </tr>\n",
       "  </tbody>\n",
       "</table>\n",
       "<p>636399 rows × 6 columns</p>\n",
       "</div>"
      ],
      "text/plain": [
       "                 event_date                session                   user  \\\n",
       "0       2022-10-08 17:02:41  14274187577460658115s   2006979063809820329u   \n",
       "1       2022-10-08 17:06:19  14274187577460658115s   2006979063809820329u   \n",
       "2       2022-10-08 22:19:47   2704204808571844605s   2007646148110679693u   \n",
       "3       2022-10-08 22:24:30   8970170322512311099s  11839491588321754710u   \n",
       "4       2022-10-08 21:22:20  16223970371660715740s  11839887495958431209u   \n",
       "...                     ...                    ...                    ...   \n",
       "637233  2022-09-30 19:10:47   4337671502003974886s  16408992711249841548u   \n",
       "637234  2022-09-30 14:44:29  13436616217932629112s  18362900391208328063u   \n",
       "637235  2022-09-30 02:20:22   6129704733313384581s  18383133457867141415u   \n",
       "637236  2022-09-30 12:20:04  14145319343967194043s  18403471609558160062u   \n",
       "637237  2022-09-30 08:10:58   8776519620226077650s  18416278413345382629u   \n",
       "\n",
       "                  page_type event_type  product  \n",
       "0       search_listing_page  page_view        0  \n",
       "1       search_listing_page  page_view        0  \n",
       "2              listing_page  page_view        0  \n",
       "3       search_listing_page  page_view        0  \n",
       "4              product_page  page_view        0  \n",
       "...                     ...        ...      ...  \n",
       "637233         listing_page  page_view        0  \n",
       "637234         listing_page  page_view        0  \n",
       "637235         listing_page  page_view        0  \n",
       "637236         listing_page  page_view        0  \n",
       "637237         listing_page  page_view        0  \n",
       "\n",
       "[636399 rows x 6 columns]"
      ]
     },
     "execution_count": 80,
     "metadata": {},
     "output_type": "execute_result"
    }
   ],
   "source": [
    "df"
   ]
  },
  {
   "cell_type": "code",
   "execution_count": 154,
   "id": "7c5dafad",
   "metadata": {},
   "outputs": [],
   "source": [
    "df[[\"event_day\", \"event_hour\"]] = df[\"event_date\"].str.split(' ', expand=True)"
   ]
  },
  {
   "cell_type": "code",
   "execution_count": 155,
   "id": "a2352cc0",
   "metadata": {},
   "outputs": [],
   "source": [
    "columns = ['event_date', 'event_day', 'event_hour', 'session', 'user', 'page_type', 'event_type', 'product']\n",
    "\n",
    "df = df[columns]"
   ]
  },
  {
   "cell_type": "code",
   "execution_count": 156,
   "id": "f755f827",
   "metadata": {},
   "outputs": [],
   "source": [
    "df.drop(columns=['event_date'], inplace=True)"
   ]
  },
  {
   "cell_type": "code",
   "execution_count": 157,
   "id": "c5779dd0",
   "metadata": {},
   "outputs": [
    {
     "data": {
      "text/html": [
       "<div>\n",
       "<style scoped>\n",
       "    .dataframe tbody tr th:only-of-type {\n",
       "        vertical-align: middle;\n",
       "    }\n",
       "\n",
       "    .dataframe tbody tr th {\n",
       "        vertical-align: top;\n",
       "    }\n",
       "\n",
       "    .dataframe thead th {\n",
       "        text-align: right;\n",
       "    }\n",
       "</style>\n",
       "<table border=\"1\" class=\"dataframe\">\n",
       "  <thead>\n",
       "    <tr style=\"text-align: right;\">\n",
       "      <th></th>\n",
       "      <th>event_day</th>\n",
       "      <th>event_hour</th>\n",
       "      <th>session</th>\n",
       "      <th>user</th>\n",
       "      <th>page_type</th>\n",
       "      <th>event_type</th>\n",
       "      <th>product</th>\n",
       "    </tr>\n",
       "  </thead>\n",
       "  <tbody>\n",
       "    <tr>\n",
       "      <th>0</th>\n",
       "      <td>2022-10-08</td>\n",
       "      <td>17:02:41</td>\n",
       "      <td>14274187577460658115s</td>\n",
       "      <td>2006979063809820329u</td>\n",
       "      <td>search_listing_page</td>\n",
       "      <td>page_view</td>\n",
       "      <td>0</td>\n",
       "    </tr>\n",
       "    <tr>\n",
       "      <th>1</th>\n",
       "      <td>2022-10-08</td>\n",
       "      <td>17:06:19</td>\n",
       "      <td>14274187577460658115s</td>\n",
       "      <td>2006979063809820329u</td>\n",
       "      <td>search_listing_page</td>\n",
       "      <td>page_view</td>\n",
       "      <td>0</td>\n",
       "    </tr>\n",
       "    <tr>\n",
       "      <th>2</th>\n",
       "      <td>2022-10-08</td>\n",
       "      <td>22:19:47</td>\n",
       "      <td>2704204808571844605s</td>\n",
       "      <td>2007646148110679693u</td>\n",
       "      <td>listing_page</td>\n",
       "      <td>page_view</td>\n",
       "      <td>0</td>\n",
       "    </tr>\n",
       "    <tr>\n",
       "      <th>3</th>\n",
       "      <td>2022-10-08</td>\n",
       "      <td>22:24:30</td>\n",
       "      <td>8970170322512311099s</td>\n",
       "      <td>11839491588321754710u</td>\n",
       "      <td>search_listing_page</td>\n",
       "      <td>page_view</td>\n",
       "      <td>0</td>\n",
       "    </tr>\n",
       "    <tr>\n",
       "      <th>4</th>\n",
       "      <td>2022-10-08</td>\n",
       "      <td>21:22:20</td>\n",
       "      <td>16223970371660715740s</td>\n",
       "      <td>11839887495958431209u</td>\n",
       "      <td>product_page</td>\n",
       "      <td>page_view</td>\n",
       "      <td>0</td>\n",
       "    </tr>\n",
       "    <tr>\n",
       "      <th>...</th>\n",
       "      <td>...</td>\n",
       "      <td>...</td>\n",
       "      <td>...</td>\n",
       "      <td>...</td>\n",
       "      <td>...</td>\n",
       "      <td>...</td>\n",
       "      <td>...</td>\n",
       "    </tr>\n",
       "    <tr>\n",
       "      <th>637233</th>\n",
       "      <td>2022-09-30</td>\n",
       "      <td>19:10:47</td>\n",
       "      <td>4337671502003974886s</td>\n",
       "      <td>16408992711249841548u</td>\n",
       "      <td>listing_page</td>\n",
       "      <td>page_view</td>\n",
       "      <td>0</td>\n",
       "    </tr>\n",
       "    <tr>\n",
       "      <th>637234</th>\n",
       "      <td>2022-09-30</td>\n",
       "      <td>14:44:29</td>\n",
       "      <td>13436616217932629112s</td>\n",
       "      <td>18362900391208328063u</td>\n",
       "      <td>listing_page</td>\n",
       "      <td>page_view</td>\n",
       "      <td>0</td>\n",
       "    </tr>\n",
       "    <tr>\n",
       "      <th>637235</th>\n",
       "      <td>2022-09-30</td>\n",
       "      <td>02:20:22</td>\n",
       "      <td>6129704733313384581s</td>\n",
       "      <td>18383133457867141415u</td>\n",
       "      <td>listing_page</td>\n",
       "      <td>page_view</td>\n",
       "      <td>0</td>\n",
       "    </tr>\n",
       "    <tr>\n",
       "      <th>637236</th>\n",
       "      <td>2022-09-30</td>\n",
       "      <td>12:20:04</td>\n",
       "      <td>14145319343967194043s</td>\n",
       "      <td>18403471609558160062u</td>\n",
       "      <td>listing_page</td>\n",
       "      <td>page_view</td>\n",
       "      <td>0</td>\n",
       "    </tr>\n",
       "    <tr>\n",
       "      <th>637237</th>\n",
       "      <td>2022-09-30</td>\n",
       "      <td>08:10:58</td>\n",
       "      <td>8776519620226077650s</td>\n",
       "      <td>18416278413345382629u</td>\n",
       "      <td>listing_page</td>\n",
       "      <td>page_view</td>\n",
       "      <td>0</td>\n",
       "    </tr>\n",
       "  </tbody>\n",
       "</table>\n",
       "<p>636399 rows × 7 columns</p>\n",
       "</div>"
      ],
      "text/plain": [
       "         event_day event_hour                session                   user  \\\n",
       "0       2022-10-08   17:02:41  14274187577460658115s   2006979063809820329u   \n",
       "1       2022-10-08   17:06:19  14274187577460658115s   2006979063809820329u   \n",
       "2       2022-10-08   22:19:47   2704204808571844605s   2007646148110679693u   \n",
       "3       2022-10-08   22:24:30   8970170322512311099s  11839491588321754710u   \n",
       "4       2022-10-08   21:22:20  16223970371660715740s  11839887495958431209u   \n",
       "...            ...        ...                    ...                    ...   \n",
       "637233  2022-09-30   19:10:47   4337671502003974886s  16408992711249841548u   \n",
       "637234  2022-09-30   14:44:29  13436616217932629112s  18362900391208328063u   \n",
       "637235  2022-09-30   02:20:22   6129704733313384581s  18383133457867141415u   \n",
       "637236  2022-09-30   12:20:04  14145319343967194043s  18403471609558160062u   \n",
       "637237  2022-09-30   08:10:58   8776519620226077650s  18416278413345382629u   \n",
       "\n",
       "                  page_type event_type  product  \n",
       "0       search_listing_page  page_view        0  \n",
       "1       search_listing_page  page_view        0  \n",
       "2              listing_page  page_view        0  \n",
       "3       search_listing_page  page_view        0  \n",
       "4              product_page  page_view        0  \n",
       "...                     ...        ...      ...  \n",
       "637233         listing_page  page_view        0  \n",
       "637234         listing_page  page_view        0  \n",
       "637235         listing_page  page_view        0  \n",
       "637236         listing_page  page_view        0  \n",
       "637237         listing_page  page_view        0  \n",
       "\n",
       "[636399 rows x 7 columns]"
      ]
     },
     "execution_count": 157,
     "metadata": {},
     "output_type": "execute_result"
    }
   ],
   "source": [
    "df"
   ]
  },
  {
   "cell_type": "code",
   "execution_count": 85,
   "id": "f3b45a4f",
   "metadata": {},
   "outputs": [
    {
     "data": {
      "text/plain": [
       "event_day\n",
       "2022-10-10    52715\n",
       "2022-10-11    52079\n",
       "2022-10-12    49702\n",
       "2022-10-13    49365\n",
       "2022-10-03    48695\n",
       "2022-10-04    48144\n",
       "2022-10-05    47995\n",
       "2022-09-30    46224\n",
       "2022-10-06    43753\n",
       "2022-10-02    43202\n",
       "2022-10-01    42546\n",
       "2022-10-09    39407\n",
       "2022-10-07    36840\n",
       "2022-10-08    35732\n",
       "Name: count, dtype: int64"
      ]
     },
     "execution_count": 85,
     "metadata": {},
     "output_type": "execute_result"
    }
   ],
   "source": [
    "df.event_day.value_counts()"
   ]
  },
  {
   "cell_type": "code",
   "execution_count": 63,
   "id": "09c302bc",
   "metadata": {},
   "outputs": [
    {
     "name": "stdout",
     "output_type": "stream",
     "text": [
      "<class 'pandas.core.frame.DataFrame'>\n",
      "Index: 636399 entries, 0 to 637237\n",
      "Data columns (total 7 columns):\n",
      " #   Column      Non-Null Count   Dtype \n",
      "---  ------      --------------   ----- \n",
      " 0   event_day   636399 non-null  object\n",
      " 1   event_hour  636399 non-null  object\n",
      " 2   session     636399 non-null  object\n",
      " 3   user        636399 non-null  object\n",
      " 4   page_type   636399 non-null  object\n",
      " 5   event_type  636399 non-null  object\n",
      " 6   product     636399 non-null  int64 \n",
      "dtypes: int64(1), object(6)\n",
      "memory usage: 38.8+ MB\n"
     ]
    }
   ],
   "source": [
    "df.info()"
   ]
  },
  {
   "cell_type": "markdown",
   "id": "5965df90",
   "metadata": {},
   "source": [
    "## event_hour_period"
   ]
  },
  {
   "cell_type": "code",
   "execution_count": 158,
   "id": "843c5c80",
   "metadata": {},
   "outputs": [],
   "source": [
    "def categorize_time(hour_str):\n",
    "    \n",
    "    hour = pd.to_datetime(hour_str, format = '%H:%M:%S').time()\n",
    "    \n",
    "    if hour >= pd.to_datetime('00:00:00', format='%H:%M:%S').time() and hour <= pd.to_datetime('08:59:59', format='%H:%M:%S').time():\n",
    "        return 'morning'\n",
    "    \n",
    "    elif hour >= pd.to_datetime('08:59:59', format='%H:%M:%S').time() and hour <= pd.to_datetime('11:59:59', format='%H:%M:%S').time():\n",
    "        return 'noon'\n",
    "    \n",
    "    elif hour >= pd.to_datetime('12:00:00', format='%H:%M:%S').time() and hour <= pd.to_datetime('14:59:59', format='%H:%M:%S').time():\n",
    "        return 'afternoon'\n",
    "    \n",
    "    elif hour >= pd.to_datetime('15:00:00', format='%H:%M:%S').time() and hour <= pd.to_datetime('17:59:59', format='%H:%M:%S').time():\n",
    "        return 'late afternoon'\n",
    "    \n",
    "    elif hour >= pd.to_datetime('18:00:00', format='%H:%M:%S').time() and hour <= pd.to_datetime('20:59:59', format='%H:%M:%S').time():\n",
    "        return 'evening'\n",
    "    \n",
    "    elif hour >= pd.to_datetime('21:00:00', format='%H:%M:%S').time() and hour <= pd.to_datetime('23:59:59', format='%H:%M:%S').time():\n",
    "        return 'midnight'\n",
    "    \n",
    "    else:\n",
    "        return 'other'"
   ]
  },
  {
   "cell_type": "code",
   "execution_count": 159,
   "id": "831f5007",
   "metadata": {},
   "outputs": [],
   "source": [
    "df[\"event_hour_period\"] = df[\"event_hour\"].apply(categorize_time)"
   ]
  },
  {
   "cell_type": "code",
   "execution_count": 160,
   "id": "54107118",
   "metadata": {},
   "outputs": [],
   "source": [
    "df[\"event_day\"] = pd.to_datetime(df[\"event_day\"])"
   ]
  },
  {
   "cell_type": "code",
   "execution_count": 161,
   "id": "2cab4e52",
   "metadata": {},
   "outputs": [
    {
     "name": "stdout",
     "output_type": "stream",
     "text": [
      "<class 'pandas.core.frame.DataFrame'>\n",
      "Index: 636399 entries, 0 to 637237\n",
      "Data columns (total 8 columns):\n",
      " #   Column             Non-Null Count   Dtype         \n",
      "---  ------             --------------   -----         \n",
      " 0   event_day          636399 non-null  datetime64[ns]\n",
      " 1   event_hour         636399 non-null  object        \n",
      " 2   session            636399 non-null  object        \n",
      " 3   user               636399 non-null  object        \n",
      " 4   page_type          636399 non-null  object        \n",
      " 5   event_type         636399 non-null  object        \n",
      " 6   product            636399 non-null  int64         \n",
      " 7   event_hour_period  636399 non-null  object        \n",
      "dtypes: datetime64[ns](1), int64(1), object(6)\n",
      "memory usage: 43.7+ MB\n"
     ]
    }
   ],
   "source": [
    "df.info()"
   ]
  },
  {
   "cell_type": "code",
   "execution_count": 162,
   "id": "879e7ad7",
   "metadata": {},
   "outputs": [],
   "source": [
    "columns = ['event_day', 'event_hour', 'event_hour_period', 'session', 'user', 'page_type', 'event_type', 'product']\n",
    "\n",
    "df = df[columns]"
   ]
  },
  {
   "cell_type": "code",
   "execution_count": 163,
   "id": "fdccfa99",
   "metadata": {},
   "outputs": [
    {
     "data": {
      "text/html": [
       "<div>\n",
       "<style scoped>\n",
       "    .dataframe tbody tr th:only-of-type {\n",
       "        vertical-align: middle;\n",
       "    }\n",
       "\n",
       "    .dataframe tbody tr th {\n",
       "        vertical-align: top;\n",
       "    }\n",
       "\n",
       "    .dataframe thead th {\n",
       "        text-align: right;\n",
       "    }\n",
       "</style>\n",
       "<table border=\"1\" class=\"dataframe\">\n",
       "  <thead>\n",
       "    <tr style=\"text-align: right;\">\n",
       "      <th></th>\n",
       "      <th>event_day</th>\n",
       "      <th>event_hour</th>\n",
       "      <th>event_hour_period</th>\n",
       "      <th>session</th>\n",
       "      <th>user</th>\n",
       "      <th>page_type</th>\n",
       "      <th>event_type</th>\n",
       "      <th>product</th>\n",
       "    </tr>\n",
       "  </thead>\n",
       "  <tbody>\n",
       "    <tr>\n",
       "      <th>0</th>\n",
       "      <td>2022-10-08</td>\n",
       "      <td>17:02:41</td>\n",
       "      <td>late afternoon</td>\n",
       "      <td>14274187577460658115s</td>\n",
       "      <td>2006979063809820329u</td>\n",
       "      <td>search_listing_page</td>\n",
       "      <td>page_view</td>\n",
       "      <td>0</td>\n",
       "    </tr>\n",
       "    <tr>\n",
       "      <th>1</th>\n",
       "      <td>2022-10-08</td>\n",
       "      <td>17:06:19</td>\n",
       "      <td>late afternoon</td>\n",
       "      <td>14274187577460658115s</td>\n",
       "      <td>2006979063809820329u</td>\n",
       "      <td>search_listing_page</td>\n",
       "      <td>page_view</td>\n",
       "      <td>0</td>\n",
       "    </tr>\n",
       "    <tr>\n",
       "      <th>2</th>\n",
       "      <td>2022-10-08</td>\n",
       "      <td>22:19:47</td>\n",
       "      <td>midnight</td>\n",
       "      <td>2704204808571844605s</td>\n",
       "      <td>2007646148110679693u</td>\n",
       "      <td>listing_page</td>\n",
       "      <td>page_view</td>\n",
       "      <td>0</td>\n",
       "    </tr>\n",
       "    <tr>\n",
       "      <th>3</th>\n",
       "      <td>2022-10-08</td>\n",
       "      <td>22:24:30</td>\n",
       "      <td>midnight</td>\n",
       "      <td>8970170322512311099s</td>\n",
       "      <td>11839491588321754710u</td>\n",
       "      <td>search_listing_page</td>\n",
       "      <td>page_view</td>\n",
       "      <td>0</td>\n",
       "    </tr>\n",
       "    <tr>\n",
       "      <th>4</th>\n",
       "      <td>2022-10-08</td>\n",
       "      <td>21:22:20</td>\n",
       "      <td>midnight</td>\n",
       "      <td>16223970371660715740s</td>\n",
       "      <td>11839887495958431209u</td>\n",
       "      <td>product_page</td>\n",
       "      <td>page_view</td>\n",
       "      <td>0</td>\n",
       "    </tr>\n",
       "    <tr>\n",
       "      <th>...</th>\n",
       "      <td>...</td>\n",
       "      <td>...</td>\n",
       "      <td>...</td>\n",
       "      <td>...</td>\n",
       "      <td>...</td>\n",
       "      <td>...</td>\n",
       "      <td>...</td>\n",
       "      <td>...</td>\n",
       "    </tr>\n",
       "    <tr>\n",
       "      <th>637233</th>\n",
       "      <td>2022-09-30</td>\n",
       "      <td>19:10:47</td>\n",
       "      <td>evening</td>\n",
       "      <td>4337671502003974886s</td>\n",
       "      <td>16408992711249841548u</td>\n",
       "      <td>listing_page</td>\n",
       "      <td>page_view</td>\n",
       "      <td>0</td>\n",
       "    </tr>\n",
       "    <tr>\n",
       "      <th>637234</th>\n",
       "      <td>2022-09-30</td>\n",
       "      <td>14:44:29</td>\n",
       "      <td>afternoon</td>\n",
       "      <td>13436616217932629112s</td>\n",
       "      <td>18362900391208328063u</td>\n",
       "      <td>listing_page</td>\n",
       "      <td>page_view</td>\n",
       "      <td>0</td>\n",
       "    </tr>\n",
       "    <tr>\n",
       "      <th>637235</th>\n",
       "      <td>2022-09-30</td>\n",
       "      <td>02:20:22</td>\n",
       "      <td>morning</td>\n",
       "      <td>6129704733313384581s</td>\n",
       "      <td>18383133457867141415u</td>\n",
       "      <td>listing_page</td>\n",
       "      <td>page_view</td>\n",
       "      <td>0</td>\n",
       "    </tr>\n",
       "    <tr>\n",
       "      <th>637236</th>\n",
       "      <td>2022-09-30</td>\n",
       "      <td>12:20:04</td>\n",
       "      <td>afternoon</td>\n",
       "      <td>14145319343967194043s</td>\n",
       "      <td>18403471609558160062u</td>\n",
       "      <td>listing_page</td>\n",
       "      <td>page_view</td>\n",
       "      <td>0</td>\n",
       "    </tr>\n",
       "    <tr>\n",
       "      <th>637237</th>\n",
       "      <td>2022-09-30</td>\n",
       "      <td>08:10:58</td>\n",
       "      <td>morning</td>\n",
       "      <td>8776519620226077650s</td>\n",
       "      <td>18416278413345382629u</td>\n",
       "      <td>listing_page</td>\n",
       "      <td>page_view</td>\n",
       "      <td>0</td>\n",
       "    </tr>\n",
       "  </tbody>\n",
       "</table>\n",
       "<p>636399 rows × 8 columns</p>\n",
       "</div>"
      ],
      "text/plain": [
       "        event_day event_hour event_hour_period                session  \\\n",
       "0      2022-10-08   17:02:41    late afternoon  14274187577460658115s   \n",
       "1      2022-10-08   17:06:19    late afternoon  14274187577460658115s   \n",
       "2      2022-10-08   22:19:47          midnight   2704204808571844605s   \n",
       "3      2022-10-08   22:24:30          midnight   8970170322512311099s   \n",
       "4      2022-10-08   21:22:20          midnight  16223970371660715740s   \n",
       "...           ...        ...               ...                    ...   \n",
       "637233 2022-09-30   19:10:47           evening   4337671502003974886s   \n",
       "637234 2022-09-30   14:44:29         afternoon  13436616217932629112s   \n",
       "637235 2022-09-30   02:20:22           morning   6129704733313384581s   \n",
       "637236 2022-09-30   12:20:04         afternoon  14145319343967194043s   \n",
       "637237 2022-09-30   08:10:58           morning   8776519620226077650s   \n",
       "\n",
       "                         user            page_type event_type  product  \n",
       "0        2006979063809820329u  search_listing_page  page_view        0  \n",
       "1        2006979063809820329u  search_listing_page  page_view        0  \n",
       "2        2007646148110679693u         listing_page  page_view        0  \n",
       "3       11839491588321754710u  search_listing_page  page_view        0  \n",
       "4       11839887495958431209u         product_page  page_view        0  \n",
       "...                       ...                  ...        ...      ...  \n",
       "637233  16408992711249841548u         listing_page  page_view        0  \n",
       "637234  18362900391208328063u         listing_page  page_view        0  \n",
       "637235  18383133457867141415u         listing_page  page_view        0  \n",
       "637236  18403471609558160062u         listing_page  page_view        0  \n",
       "637237  18416278413345382629u         listing_page  page_view        0  \n",
       "\n",
       "[636399 rows x 8 columns]"
      ]
     },
     "execution_count": 163,
     "metadata": {},
     "output_type": "execute_result"
    }
   ],
   "source": [
    "df"
   ]
  },
  {
   "cell_type": "code",
   "execution_count": 17,
   "id": "24059c9c",
   "metadata": {
    "scrolled": true
   },
   "outputs": [
    {
     "data": {
      "text/plain": [
       "event_hour_period\n",
       "late afternoon    123608\n",
       "afternoon         119963\n",
       "evening           112915\n",
       "noon              102144\n",
       "morning            97928\n",
       "midnight           79841\n",
       "Name: count, dtype: int64"
      ]
     },
     "execution_count": 17,
     "metadata": {},
     "output_type": "execute_result"
    }
   ],
   "source": [
    "df.event_hour_period.value_counts()"
   ]
  },
  {
   "cell_type": "markdown",
   "id": "bc8db5ec",
   "metadata": {},
   "source": [
    "## user"
   ]
  },
  {
   "cell_type": "code",
   "execution_count": 111,
   "id": "a6ecf0d3",
   "metadata": {},
   "outputs": [
    {
     "data": {
      "text/plain": [
       "user\n",
       "11769744300065907078u    1260\n",
       "10671157392604114939u    1014\n",
       "15055679654066929981u     977\n",
       "9697135938868880738u      974\n",
       "1316617677830457669u      666\n",
       "                         ... \n",
       "9102072801364594820u        1\n",
       "9103796325275164355u        1\n",
       "9104387786437595441u        1\n",
       "15997284830081135375u       1\n",
       "18416278413345382629u       1\n",
       "Name: count, Length: 288088, dtype: int64"
      ]
     },
     "execution_count": 111,
     "metadata": {},
     "output_type": "execute_result"
    }
   ],
   "source": [
    "df.user.value_counts()"
   ]
  },
  {
   "cell_type": "code",
   "execution_count": 164,
   "id": "ba87045b",
   "metadata": {},
   "outputs": [
    {
     "data": {
      "text/plain": [
       "1260"
      ]
     },
     "execution_count": 164,
     "metadata": {},
     "output_type": "execute_result"
    }
   ],
   "source": [
    "df.user.value_counts().max()"
   ]
  },
  {
   "cell_type": "code",
   "execution_count": 165,
   "id": "5e7c2638",
   "metadata": {},
   "outputs": [],
   "source": [
    "counts = df.user.value_counts()"
   ]
  },
  {
   "cell_type": "code",
   "execution_count": 166,
   "id": "7e905fad",
   "metadata": {},
   "outputs": [
    {
     "name": "stdout",
     "output_type": "stream",
     "text": [
      "197101 users joined the website only one.\n"
     ]
    }
   ],
   "source": [
    "count_one = (counts == 1).sum()\n",
    "\n",
    "print(f'{count_one} users joined the website only one.')"
   ]
  },
  {
   "cell_type": "code",
   "execution_count": 167,
   "id": "cfc1ab70",
   "metadata": {},
   "outputs": [],
   "source": [
    "count_two = counts[(counts > 1) & (counts <= 100)]"
   ]
  },
  {
   "cell_type": "code",
   "execution_count": 168,
   "id": "736b9ddf",
   "metadata": {},
   "outputs": [
    {
     "name": "stdout",
     "output_type": "stream",
     "text": [
      "90933 users joined the website more than 1 and less 100.\n"
     ]
    }
   ],
   "source": [
    "count_two = count_two.size\n",
    "\n",
    "print(f'{count_two} users joined the website more than 1 and less 100.')"
   ]
  },
  {
   "cell_type": "code",
   "execution_count": 169,
   "id": "577c7785",
   "metadata": {},
   "outputs": [],
   "source": [
    "count_three = counts[(counts > 100) & (counts <= 500)]"
   ]
  },
  {
   "cell_type": "code",
   "execution_count": 170,
   "id": "f630ecc8",
   "metadata": {},
   "outputs": [
    {
     "name": "stdout",
     "output_type": "stream",
     "text": [
      "47 users joined the website more than 100 and less 500.\n"
     ]
    }
   ],
   "source": [
    "count_three = count_three.size\n",
    "\n",
    "print(f'{count_three} users joined the website more than 100 and less 500.')"
   ]
  },
  {
   "cell_type": "code",
   "execution_count": 171,
   "id": "b2a49b03",
   "metadata": {},
   "outputs": [],
   "source": [
    "count_four = counts[(counts > 500) & (counts <= 1260)]  # 1260 is max number"
   ]
  },
  {
   "cell_type": "code",
   "execution_count": 172,
   "id": "68380e63",
   "metadata": {},
   "outputs": [
    {
     "data": {
      "text/plain": [
       "user\n",
       "11769744300065907078u    1260\n",
       "10671157392604114939u    1014\n",
       "15055679654066929981u     977\n",
       "9697135938868880738u      974\n",
       "1316617677830457669u      666\n",
       "3014248931872578225u      532\n",
       "6732678485673080759u      510\n",
       "Name: count, dtype: int64"
      ]
     },
     "execution_count": 172,
     "metadata": {},
     "output_type": "execute_result"
    }
   ],
   "source": [
    "count_four"
   ]
  },
  {
   "cell_type": "code",
   "execution_count": 26,
   "id": "e19acd1f",
   "metadata": {},
   "outputs": [
    {
     "name": "stdout",
     "output_type": "stream",
     "text": [
      "7 users joined the website more than 500 and less 1500.\n"
     ]
    }
   ],
   "source": [
    "count_four = count_four.size\n",
    "\n",
    "print(f'{count_four} users joined the website more than 500 and less 1500.')"
   ]
  },
  {
   "cell_type": "code",
   "execution_count": 27,
   "id": "55e05983",
   "metadata": {},
   "outputs": [
    {
     "name": "stdout",
     "output_type": "stream",
     "text": [
      "<class 'pandas.core.frame.DataFrame'>\n",
      "Index: 636399 entries, 0 to 637237\n",
      "Data columns (total 8 columns):\n",
      " #   Column             Non-Null Count   Dtype \n",
      "---  ------             --------------   ----- \n",
      " 0   event_day          636399 non-null  object\n",
      " 1   event_hour         636399 non-null  object\n",
      " 2   event_hour_period  636399 non-null  object\n",
      " 3   session            636399 non-null  object\n",
      " 4   user               636399 non-null  object\n",
      " 5   page_type          636399 non-null  object\n",
      " 6   event_type         636399 non-null  object\n",
      " 7   product            636399 non-null  int64 \n",
      "dtypes: int64(1), object(7)\n",
      "memory usage: 43.7+ MB\n"
     ]
    }
   ],
   "source": [
    "df.info()"
   ]
  },
  {
   "cell_type": "code",
   "execution_count": 28,
   "id": "b3860884",
   "metadata": {},
   "outputs": [],
   "source": [
    "df_object = df.select_dtypes(include='object')"
   ]
  },
  {
   "cell_type": "code",
   "execution_count": 173,
   "id": "a0855b18",
   "metadata": {},
   "outputs": [
    {
     "name": "stdout",
     "output_type": "stream",
     "text": [
      "event_day           : 14\n",
      "event_hour          : 83250\n",
      "event_hour_period   : 6\n",
      "session             : 340443\n",
      "user                : 288088\n",
      "page_type           : 4\n",
      "event_type          : 3\n"
     ]
    }
   ],
   "source": [
    "for col in df_object:\n",
    "    print(f\"{col:<20}:\", df[col].nunique())"
   ]
  },
  {
   "cell_type": "markdown",
   "id": "9af60ea2",
   "metadata": {},
   "source": [
    "## page_type"
   ]
  },
  {
   "cell_type": "code",
   "execution_count": 31,
   "id": "46b01990",
   "metadata": {},
   "outputs": [
    {
     "data": {
      "text/plain": [
       "page_type\n",
       "product_page           282714\n",
       "listing_page           231369\n",
       "search_listing_page    113576\n",
       "order_page               8740\n",
       "Name: count, dtype: int64"
      ]
     },
     "execution_count": 31,
     "metadata": {},
     "output_type": "execute_result"
    }
   ],
   "source": [
    "df.page_type.value_counts()"
   ]
  },
  {
   "cell_type": "markdown",
   "id": "4e1dd28e",
   "metadata": {},
   "source": [
    "## event_type"
   ]
  },
  {
   "cell_type": "code",
   "execution_count": 32,
   "id": "b2907cb8",
   "metadata": {},
   "outputs": [
    {
     "data": {
      "text/plain": [
       "event_type\n",
       "page_view      611739\n",
       "add_to_cart     15920\n",
       "order            8740\n",
       "Name: count, dtype: int64"
      ]
     },
     "execution_count": 32,
     "metadata": {},
     "output_type": "execute_result"
    }
   ],
   "source": [
    "df.event_type.value_counts()"
   ]
  },
  {
   "cell_type": "markdown",
   "id": "e581d317",
   "metadata": {},
   "source": [
    "## product"
   ]
  },
  {
   "cell_type": "code",
   "execution_count": 114,
   "id": "84e13108",
   "metadata": {},
   "outputs": [
    {
     "data": {
      "text/plain": [
       "product\n",
       "0           620479\n",
       "26372760        21\n",
       "27133309        20\n",
       "26780006        14\n",
       "20283956        13\n",
       "             ...  \n",
       "27661741         1\n",
       "34582668         1\n",
       "19990749         1\n",
       "26165071         1\n",
       "35704689         1\n",
       "Name: count, Length: 12442, dtype: int64"
      ]
     },
     "execution_count": 114,
     "metadata": {},
     "output_type": "execute_result"
    }
   ],
   "source": [
    "df['product'].value_counts()"
   ]
  },
  {
   "cell_type": "markdown",
   "id": "b849efaf",
   "metadata": {},
   "source": [
    "### Most Viewed Products"
   ]
  },
  {
   "cell_type": "code",
   "execution_count": 110,
   "id": "532cee58",
   "metadata": {},
   "outputs": [],
   "source": [
    "most_popular_product = df[(df[\"page_type\"] == 'product_page') | (df[\"page_type\"] == 'listing_page') | (df[\"page_type\"] == 'search_listing_page')]['product'].value_counts().reset_index()"
   ]
  },
  {
   "cell_type": "code",
   "execution_count": 117,
   "id": "5fead399",
   "metadata": {},
   "outputs": [
    {
     "data": {
      "text/html": [
       "<div>\n",
       "<style scoped>\n",
       "    .dataframe tbody tr th:only-of-type {\n",
       "        vertical-align: middle;\n",
       "    }\n",
       "\n",
       "    .dataframe tbody tr th {\n",
       "        vertical-align: top;\n",
       "    }\n",
       "\n",
       "    .dataframe thead th {\n",
       "        text-align: right;\n",
       "    }\n",
       "</style>\n",
       "<table border=\"1\" class=\"dataframe\">\n",
       "  <thead>\n",
       "    <tr style=\"text-align: right;\">\n",
       "      <th></th>\n",
       "      <th>product</th>\n",
       "      <th>count</th>\n",
       "    </tr>\n",
       "  </thead>\n",
       "  <tbody>\n",
       "    <tr>\n",
       "      <th>0</th>\n",
       "      <td>0</td>\n",
       "      <td>611739</td>\n",
       "    </tr>\n",
       "    <tr>\n",
       "      <th>1</th>\n",
       "      <td>26372760</td>\n",
       "      <td>21</td>\n",
       "    </tr>\n",
       "    <tr>\n",
       "      <th>2</th>\n",
       "      <td>27133309</td>\n",
       "      <td>20</td>\n",
       "    </tr>\n",
       "    <tr>\n",
       "      <th>3</th>\n",
       "      <td>26780006</td>\n",
       "      <td>14</td>\n",
       "    </tr>\n",
       "    <tr>\n",
       "      <th>4</th>\n",
       "      <td>20283956</td>\n",
       "      <td>13</td>\n",
       "    </tr>\n",
       "    <tr>\n",
       "      <th>5</th>\n",
       "      <td>20053168</td>\n",
       "      <td>13</td>\n",
       "    </tr>\n",
       "  </tbody>\n",
       "</table>\n",
       "</div>"
      ],
      "text/plain": [
       "    product   count\n",
       "0         0  611739\n",
       "1  26372760      21\n",
       "2  27133309      20\n",
       "3  26780006      14\n",
       "4  20283956      13\n",
       "5  20053168      13"
      ]
     },
     "execution_count": 117,
     "metadata": {},
     "output_type": "execute_result"
    }
   ],
   "source": [
    "most_popular_product.head(6)"
   ]
  },
  {
   "cell_type": "markdown",
   "id": "8e25928e",
   "metadata": {},
   "source": [
    "The '0' product is mean that users viewed only page so that it is not a product. Thats why the second row shows the most viewed product to us which is the product ID **26372760** with **21** times."
   ]
  },
  {
   "cell_type": "markdown",
   "id": "18af2a3b",
   "metadata": {},
   "source": [
    "### Most Added to Cart Products"
   ]
  },
  {
   "cell_type": "code",
   "execution_count": 115,
   "id": "8516123d",
   "metadata": {},
   "outputs": [],
   "source": [
    "most_added_to_cart_products = df[(df[\"event_type\"] == 'add_to_cart')]['product'].value_counts().reset_index()"
   ]
  },
  {
   "cell_type": "code",
   "execution_count": 120,
   "id": "eb14a80e",
   "metadata": {},
   "outputs": [
    {
     "data": {
      "text/html": [
       "<div>\n",
       "<style scoped>\n",
       "    .dataframe tbody tr th:only-of-type {\n",
       "        vertical-align: middle;\n",
       "    }\n",
       "\n",
       "    .dataframe tbody tr th {\n",
       "        vertical-align: top;\n",
       "    }\n",
       "\n",
       "    .dataframe thead th {\n",
       "        text-align: right;\n",
       "    }\n",
       "</style>\n",
       "<table border=\"1\" class=\"dataframe\">\n",
       "  <thead>\n",
       "    <tr style=\"text-align: right;\">\n",
       "      <th></th>\n",
       "      <th>product</th>\n",
       "      <th>count</th>\n",
       "    </tr>\n",
       "  </thead>\n",
       "  <tbody>\n",
       "    <tr>\n",
       "      <th>0</th>\n",
       "      <td>26372760</td>\n",
       "      <td>21</td>\n",
       "    </tr>\n",
       "    <tr>\n",
       "      <th>1</th>\n",
       "      <td>27133309</td>\n",
       "      <td>20</td>\n",
       "    </tr>\n",
       "    <tr>\n",
       "      <th>2</th>\n",
       "      <td>26780006</td>\n",
       "      <td>14</td>\n",
       "    </tr>\n",
       "    <tr>\n",
       "      <th>3</th>\n",
       "      <td>20053168</td>\n",
       "      <td>13</td>\n",
       "    </tr>\n",
       "    <tr>\n",
       "      <th>4</th>\n",
       "      <td>20283956</td>\n",
       "      <td>13</td>\n",
       "    </tr>\n",
       "  </tbody>\n",
       "</table>\n",
       "</div>"
      ],
      "text/plain": [
       "    product  count\n",
       "0  26372760     21\n",
       "1  27133309     20\n",
       "2  26780006     14\n",
       "3  20053168     13\n",
       "4  20283956     13"
      ]
     },
     "execution_count": 120,
     "metadata": {},
     "output_type": "execute_result"
    }
   ],
   "source": [
    "most_added_to_cart_products.head(5)"
   ]
  },
  {
   "cell_type": "markdown",
   "id": "fe90910e",
   "metadata": {},
   "source": [
    "After the viewing the first three products, they are most added to chart products as well. But the fourth line is changed although they had same viewes. Its stange situation and it may be a case that needs to be investigated."
   ]
  },
  {
   "cell_type": "markdown",
   "id": "40d74a4e",
   "metadata": {},
   "source": [
    "### Most Purchased Products"
   ]
  },
  {
   "cell_type": "code",
   "execution_count": 125,
   "id": "18691b25",
   "metadata": {},
   "outputs": [],
   "source": [
    "most_purchased_products = df[(df[\"event_type\"] == 'add_to_chart')]['product'].value_counts().reset_index()"
   ]
  },
  {
   "cell_type": "code",
   "execution_count": 126,
   "id": "3490f096",
   "metadata": {},
   "outputs": [
    {
     "data": {
      "text/html": [
       "<div>\n",
       "<style scoped>\n",
       "    .dataframe tbody tr th:only-of-type {\n",
       "        vertical-align: middle;\n",
       "    }\n",
       "\n",
       "    .dataframe tbody tr th {\n",
       "        vertical-align: top;\n",
       "    }\n",
       "\n",
       "    .dataframe thead th {\n",
       "        text-align: right;\n",
       "    }\n",
       "</style>\n",
       "<table border=\"1\" class=\"dataframe\">\n",
       "  <thead>\n",
       "    <tr style=\"text-align: right;\">\n",
       "      <th></th>\n",
       "      <th>product</th>\n",
       "      <th>count</th>\n",
       "    </tr>\n",
       "  </thead>\n",
       "  <tbody>\n",
       "    <tr>\n",
       "      <th>0</th>\n",
       "      <td>0</td>\n",
       "      <td>8740</td>\n",
       "    </tr>\n",
       "  </tbody>\n",
       "</table>\n",
       "</div>"
      ],
      "text/plain": [
       "   product  count\n",
       "0        0   8740"
      ]
     },
     "execution_count": 126,
     "metadata": {},
     "output_type": "execute_result"
    }
   ],
   "source": [
    "most_purchased_products"
   ]
  },
  {
   "cell_type": "code",
   "execution_count": 133,
   "id": "97a07c87",
   "metadata": {},
   "outputs": [
    {
     "data": {
      "text/html": [
       "<div>\n",
       "<style scoped>\n",
       "    .dataframe tbody tr th:only-of-type {\n",
       "        vertical-align: middle;\n",
       "    }\n",
       "\n",
       "    .dataframe tbody tr th {\n",
       "        vertical-align: top;\n",
       "    }\n",
       "\n",
       "    .dataframe thead th {\n",
       "        text-align: right;\n",
       "    }\n",
       "</style>\n",
       "<table border=\"1\" class=\"dataframe\">\n",
       "  <thead>\n",
       "    <tr style=\"text-align: right;\">\n",
       "      <th></th>\n",
       "      <th>event_day</th>\n",
       "      <th>event_hour</th>\n",
       "      <th>event_hour_period</th>\n",
       "      <th>session</th>\n",
       "      <th>user</th>\n",
       "      <th>page_type</th>\n",
       "      <th>event_type</th>\n",
       "      <th>product</th>\n",
       "    </tr>\n",
       "  </thead>\n",
       "  <tbody>\n",
       "  </tbody>\n",
       "</table>\n",
       "</div>"
      ],
      "text/plain": [
       "Empty DataFrame\n",
       "Columns: [event_day, event_hour, event_hour_period, session, user, page_type, event_type, product]\n",
       "Index: []"
      ]
     },
     "execution_count": 133,
     "metadata": {},
     "output_type": "execute_result"
    }
   ],
   "source": [
    "df[(df[\"event_type\"] == 'order') & (df[\"product\"] != 0)]"
   ]
  },
  {
   "cell_type": "code",
   "execution_count": 177,
   "id": "b6861cc5",
   "metadata": {},
   "outputs": [],
   "source": [
    "df.to_csv(\"last_version_dataset.csv\")"
   ]
  },
  {
   "cell_type": "markdown",
   "id": "90d170b0",
   "metadata": {},
   "source": [
    "## <p style=\"background-color:#FDFEFE; font-family:newtimeroman; color:#060108; font-size:200%; text-align:center; border-radius:10px 10px;\">Marketing Funnel Analysis</p>"
   ]
  },
  {
   "cell_type": "markdown",
   "id": "b14ee3ea",
   "metadata": {},
   "source": [
    "To uncover insights on a website, every single activity of the customer on the website needs to be examined.  In this way, a marketing funnel will show the customer journey from visiting the website and viewing a product or listing, to initiating the purchase and the moment of purchase. By analyzing each stage, it is aimed to provide an advantage for senior management or business partners to make business decisions. \n",
    "\n",
    "To recap these key metrics:\n",
    "\n",
    "  1. **Awareness**     : Visiting the website by user. \n",
    "  \n",
    "  2. **Interest**      : The user starts researching the product to gather more information about its features in product page.\n",
    "  \n",
    "  3. **Consideration** : The prospect compares the product with other products searches from the listing page.\n",
    "  \n",
    "  4. **Intent**        : When the potential customer decides to buy the product, but there is a final stage left to make a    commitment.\n",
    "  \n",
    "  5. **Purchase**      : Placing an order for the product(s). \n",
    "  \n",
    "  \n",
    "Next step, should be performed various calculations for the key metrics that have determined and I will reveale the behavior of the customer on the website finally."
   ]
  },
  {
   "cell_type": "markdown",
   "id": "9782ebb7",
   "metadata": {},
   "source": [
    "## Page Views to Awareness"
   ]
  },
  {
   "cell_type": "code",
   "execution_count": 76,
   "id": "23ccfd9d",
   "metadata": {},
   "outputs": [],
   "source": [
    "product_view = df[df[\"page_type\"] == 'product_page']"
   ]
  },
  {
   "cell_type": "code",
   "execution_count": 79,
   "id": "85ccf85d",
   "metadata": {},
   "outputs": [
    {
     "data": {
      "text/plain": [
       "282714"
      ]
     },
     "execution_count": 79,
     "metadata": {},
     "output_type": "execute_result"
    }
   ],
   "source": [
    "len(product_view)"
   ]
  },
  {
   "cell_type": "code",
   "execution_count": 82,
   "id": "5b9d0ca3",
   "metadata": {},
   "outputs": [],
   "source": [
    "listing_view = df[(df[\"page_type\"] == 'listing_page') | (df[\"page_type\"] == 'search_listing_page')]"
   ]
  },
  {
   "cell_type": "code",
   "execution_count": 84,
   "id": "6cc32a13",
   "metadata": {},
   "outputs": [
    {
     "data": {
      "text/plain": [
       "344945"
      ]
     },
     "execution_count": 84,
     "metadata": {},
     "output_type": "execute_result"
    }
   ],
   "source": [
    "len(listing_view)"
   ]
  },
  {
   "cell_type": "code",
   "execution_count": 94,
   "id": "50d79b69",
   "metadata": {},
   "outputs": [
    {
     "data": {
      "text/plain": [
       "142515"
      ]
     },
     "execution_count": 94,
     "metadata": {},
     "output_type": "execute_result"
    }
   ],
   "source": [
    "len(product_view['user'].unique())"
   ]
  },
  {
   "cell_type": "code",
   "execution_count": 95,
   "id": "a3968e58",
   "metadata": {},
   "outputs": [
    {
     "data": {
      "text/plain": [
       "168396"
      ]
     },
     "execution_count": 95,
     "metadata": {},
     "output_type": "execute_result"
    }
   ],
   "source": [
    "len(listing_view['user'].unique())"
   ]
  },
  {
   "cell_type": "code",
   "execution_count": 85,
   "id": "de399c42",
   "metadata": {},
   "outputs": [],
   "source": [
    "conversion_rate_awareness = len(product_view['user'].unique())/len(listing_view['user'].unique())"
   ]
  },
  {
   "cell_type": "code",
   "execution_count": 86,
   "id": "4841dc42",
   "metadata": {},
   "outputs": [
    {
     "data": {
      "text/plain": [
       "0.8463087009192617"
      ]
     },
     "execution_count": 86,
     "metadata": {},
     "output_type": "execute_result"
    }
   ],
   "source": [
    "conversion_rate_awareness"
   ]
  },
  {
   "cell_type": "markdown",
   "id": "52054b7a",
   "metadata": {},
   "source": [
    "This value indicates that around **84.63%** of the visitors to the website during the awareness phase performed a desired action. This high conversion rate shows that this first stage on the website effectively engages visitors and converts them into leads or customers."
   ]
  },
  {
   "cell_type": "markdown",
   "id": "5c01fe57",
   "metadata": {},
   "source": [
    "## Interest (Consideration) Conversion Rate"
   ]
  },
  {
   "cell_type": "code",
   "execution_count": 89,
   "id": "1bbe9384",
   "metadata": {},
   "outputs": [],
   "source": [
    "add_to_chart_actions = df[df[\"event_type\"] == 'add_to_cart']"
   ]
  },
  {
   "cell_type": "code",
   "execution_count": 92,
   "id": "d1aaeeef",
   "metadata": {},
   "outputs": [
    {
     "data": {
      "text/plain": [
       "15920"
      ]
     },
     "execution_count": 92,
     "metadata": {},
     "output_type": "execute_result"
    }
   ],
   "source": [
    "len(add_to_chart_actions)"
   ]
  },
  {
   "cell_type": "code",
   "execution_count": 93,
   "id": "7937d84c",
   "metadata": {},
   "outputs": [
    {
     "data": {
      "text/plain": [
       "10060"
      ]
     },
     "execution_count": 93,
     "metadata": {},
     "output_type": "execute_result"
    }
   ],
   "source": [
    "len(add_to_chart_actions['user'].unique())"
   ]
  },
  {
   "cell_type": "code",
   "execution_count": 90,
   "id": "db4e3c05",
   "metadata": {},
   "outputs": [],
   "source": [
    "conversion_rate_consideration = len(add_to_chart_actions['user'].unique())/len(listing_view['user'].unique())"
   ]
  },
  {
   "cell_type": "code",
   "execution_count": 91,
   "id": "5c2f6ace",
   "metadata": {},
   "outputs": [
    {
     "data": {
      "text/plain": [
       "0.05974013634528136"
      ]
     },
     "execution_count": 91,
     "metadata": {},
     "output_type": "execute_result"
    }
   ],
   "source": [
    "conversion_rate_consideration"
   ]
  },
  {
   "cell_type": "markdown",
   "id": "316573f1",
   "metadata": {},
   "source": [
    "This value indicates that approximately **5.97%** of the potential customers who evaluated the product prices successfully converted. This means that a small percentage of all users who research and evaluate the product ultimately decide to buy."
   ]
  },
  {
   "cell_type": "markdown",
   "id": "490f9f78",
   "metadata": {},
   "source": [
    "## Purchase Conversion Rate"
   ]
  },
  {
   "cell_type": "code",
   "execution_count": 96,
   "id": "ce1d9ead",
   "metadata": {},
   "outputs": [],
   "source": [
    "purchase_action = df[df[\"event_type\"] == 'order']"
   ]
  },
  {
   "cell_type": "code",
   "execution_count": 97,
   "id": "37b2a3d0",
   "metadata": {},
   "outputs": [
    {
     "data": {
      "text/plain": [
       "7338"
      ]
     },
     "execution_count": 97,
     "metadata": {},
     "output_type": "execute_result"
    }
   ],
   "source": [
    "len(purchase_action['user'].unique())"
   ]
  },
  {
   "cell_type": "code",
   "execution_count": 98,
   "id": "ebdf18f0",
   "metadata": {},
   "outputs": [],
   "source": [
    "conversion_rate_purchase = len(purchase_action['user'].unique())/len(add_to_chart_actions['user'].unique())"
   ]
  },
  {
   "cell_type": "code",
   "execution_count": 99,
   "id": "e59340eb",
   "metadata": {},
   "outputs": [
    {
     "data": {
      "text/plain": [
       "0.7294234592445328"
      ]
     },
     "execution_count": 99,
     "metadata": {},
     "output_type": "execute_result"
    }
   ],
   "source": [
    "conversion_rate_purchase"
   ]
  },
  {
   "cell_type": "markdown",
   "id": "1b09aed1",
   "metadata": {},
   "source": [
    "Purchase Conversion Rate **72.94%** is a strong indicator of an effective checkout process. This value, which shows the order conversion rate of the products added to the chart, can be interpreted that the payment system is user friendly, fast, and secure."
   ]
  },
  {
   "cell_type": "code",
   "execution_count": 178,
   "id": "151b2d2f",
   "metadata": {},
   "outputs": [
    {
     "name": "stdout",
     "output_type": "stream",
     "text": [
      "<class 'pandas.core.frame.DataFrame'>\n",
      "Index: 636399 entries, 0 to 637237\n",
      "Data columns (total 8 columns):\n",
      " #   Column             Non-Null Count   Dtype         \n",
      "---  ------             --------------   -----         \n",
      " 0   event_day          636399 non-null  datetime64[ns]\n",
      " 1   event_hour         636399 non-null  object        \n",
      " 2   event_hour_period  636399 non-null  object        \n",
      " 3   session            636399 non-null  object        \n",
      " 4   user               636399 non-null  object        \n",
      " 5   page_type          636399 non-null  object        \n",
      " 6   event_type         636399 non-null  object        \n",
      " 7   product            636399 non-null  int64         \n",
      "dtypes: datetime64[ns](1), int64(1), object(6)\n",
      "memory usage: 43.7+ MB\n"
     ]
    }
   ],
   "source": [
    "df.info()"
   ]
  },
  {
   "cell_type": "code",
   "execution_count": null,
   "id": "968fce0a",
   "metadata": {},
   "outputs": [],
   "source": []
  }
 ],
 "metadata": {
  "kernelspec": {
   "display_name": "Python 3 (ipykernel)",
   "language": "python",
   "name": "python3"
  },
  "language_info": {
   "codemirror_mode": {
    "name": "ipython",
    "version": 3
   },
   "file_extension": ".py",
   "mimetype": "text/x-python",
   "name": "python",
   "nbconvert_exporter": "python",
   "pygments_lexer": "ipython3",
   "version": "3.11.5"
  }
 },
 "nbformat": 4,
 "nbformat_minor": 5
}
